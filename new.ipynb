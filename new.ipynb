{
 "cells": [
  {
   "cell_type": "code",
   "execution_count": 2,
   "id": "a165a37b",
   "metadata": {},
   "outputs": [
    {
     "name": "stderr",
     "output_type": "stream",
     "text": [
      "Neither CUDA nor MPS are available - defaulting to CPU. Note: This module is much faster with a GPU.\n",
      "c:\\Users\\hp\\Desktop\\Kunal_work\\venv\\Lib\\site-packages\\torch\\utils\\data\\dataloader.py:666: UserWarning: 'pin_memory' argument is set as true but no accelerator is found, then device pinned memory won't be used.\n",
      "  warnings.warn(warn_msg)\n"
     ]
    },
    {
     "name": "stdout",
     "output_type": "stream",
     "text": [
      "OCR RAW TEXT:\n",
      " R TIRTO\n",
      "APAAR\n",
      "ONe NATION One student Id\n",
      "EDUCATION\n",
      "Automated Permanent Academic Account Registry\n",
      "SUJA KUMARI\n",
      "14 February, 2009\n",
      "Female\n",
      "7491 6206 7294\n",
      "\n",
      "EXTRACTED FIELDS:\n",
      " {}\n"
     ]
    }
   ],
   "source": [
    "import easyocr\n",
    "import re\n",
    "\n",
    "# Step 1: Load OCR reader\n",
    "reader = easyocr.Reader(['en'])  # 'en' = English\n",
    "\n",
    "# Step 2: Run OCR\n",
    "results = reader.readtext(\"cetificate_ocr.png\", detail=1)\n",
    "\n",
    "# Step 3: Combine detected text\n",
    "full_text = \"\\n\".join([res[1] for res in results])\n",
    "print(\"OCR RAW TEXT:\\n\", full_text)\n",
    "\n",
    "# Step 4: Extract important fields with regex\n",
    "fields = {}\n",
    "# Name detection (basic heuristic)\n",
    "name_match = re.search(r\"(?:certify that|awarded to|presented to)\\s+([A-Z][A-Za-z\\s]+)\", full_text, re.IGNORECASE)\n",
    "if name_match:\n",
    "    fields[\"recipient_name\"] = name_match.group(1).strip()\n",
    "\n",
    "# Date detection\n",
    "date_match = re.search(r\"(\\b\\d{1,2}[/-]\\d{1,2}[/-]\\d{2,4}\\b|\\b\\w+\\s\\d{1,2},\\s?\\d{4}\\b)\", full_text)\n",
    "if date_match:\n",
    "    fields[\"date\"] = date_match.group(1)\n",
    "\n",
    "# Certificate ID detection\n",
    "id_match = re.search(r\"(?:Certificate\\s*ID|Cert\\s*No)[:\\-]?\\s*([A-Z0-9\\-]+)\", full_text, re.IGNORECASE)\n",
    "if id_match:\n",
    "    fields[\"certificate_id\"] = id_match.group(1)\n",
    "\n",
    "print(\"\\nEXTRACTED FIELDS:\\n\", fields)\n"
   ]
  }
 ],
 "metadata": {
  "kernelspec": {
   "display_name": "venv",
   "language": "python",
   "name": "python3"
  },
  "language_info": {
   "codemirror_mode": {
    "name": "ipython",
    "version": 3
   },
   "file_extension": ".py",
   "mimetype": "text/x-python",
   "name": "python",
   "nbconvert_exporter": "python",
   "pygments_lexer": "ipython3",
   "version": "3.11.9"
  }
 },
 "nbformat": 4,
 "nbformat_minor": 5
}
